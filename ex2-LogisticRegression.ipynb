{
 "cells": [
  {
   "cell_type": "code",
   "execution_count": 1,
   "metadata": {},
   "outputs": [],
   "source": [
    "### Machine Learning Online Class - Exercise 2: Logistic Regression\n",
    "import pandas as pd\n",
    "import matplotlib.pyplot as plt\n",
    "import numpy as np\n",
    "\n",
    "### Load Data\n",
    "### The first two columns contains the exam scores and the third column\n",
    "### contains the label.\n",
    "\n",
    "df=pd.read_csv('ex2data1.txt',sep=',',header=None)\n",
    "X=df.loc[:,0:1].values\n",
    "y=df.loc[:,2].values"
   ]
  },
  {
   "cell_type": "code",
   "execution_count": 2,
   "metadata": {},
   "outputs": [
    {
     "data": {
      "image/png": "[encoded data removed]",
      "text/plain": [
       "<Figure size 432x288 with 1 Axes>"
      ]
     },
     "metadata": {
      "needs_background": "light"
     },
     "output_type": "display_data"
    }
   ],
   "source": [
    "# PART 1: plot the data \n",
    "### find indices of positive and negative examples \n",
    "pos=np.where(y==1)\n",
    "neg=np.where(y==0)\n",
    "\n",
    "plt.scatter(X[pos, 0], X[pos, 1], c='black', label='admitted')\n",
    "plt.scatter(X[neg, 0], X[neg, 1], c='red',label='not admitted')\n",
    "plt.xlabel('Exam 1 score')\n",
    "plt.ylabel('Exam 2 score')\n",
    "plt.legend()\n",
    "plt.show()"
   ]
  },
  {
   "cell_type": "code",
   "execution_count": 3,
   "metadata": {},
   "outputs": [
    {
     "name": "stdout",
     "output_type": "stream",
     "text": [
      "Cost at initial theta (zeros):\n",
      " 0.6931471805599453\n",
      "Expected cost (approx): 0.693\n",
      "\n",
      "Gradient at initial theta (zeros): \n",
      "\n",
      "\n",
      " [ -0.1        -12.00921659 -11.26284221]\n",
      "Expected gradients (approx):\n",
      " -0.1000\n",
      " -12.0092\n",
      " -11.2628\n",
      "\n"
     ]
    }
   ],
   "source": [
    "### PART 2: COMPUTE COST AND GRADIENT \n",
    "[m,n]=np.shape(X)\n",
    "X=np.hstack((np.ones((m,1)),X))\n",
    "y=np.transpose([df.loc[:,2].values])\n",
    "\n",
    "initial_theta = np.zeros((n+1,1))\n",
    "\n",
    "def sigmoid(z):\n",
    "    g=1/(1+np.exp(-z))\n",
    "    return g\n",
    "\n",
    "def costFunction(theta, X, y):\n",
    "    J=0\n",
    "    grad=np.zeros(np.shape(theta))\n",
    "    tmp1=np.zeros((m,1))\n",
    "    tmp2=np.zeros((m,n+1))\n",
    "    for i in range(m):\n",
    "        h_x=sigmoid(np.transpose(theta).dot(np.transpose(X[i,:])))\n",
    "        tmp1[i]=-y[i]*np.log(h_x)-(1-y[i])*np.log(1-h_x)\n",
    "        tmp2[i,:]=(h_x-y[i])*X[i,:]\n",
    "    J=(1/m)*np.sum(tmp1)\n",
    "    grad=(1/m)*np.sum(tmp2,axis=0) \n",
    "    return J, grad\n",
    "\n",
    "[cost, grad]=costFunction(initial_theta, X, y)\n",
    "\n",
    "print('Cost at initial theta (zeros):\\n', cost)\n",
    "print('Expected cost (approx): 0.693\\n');\n",
    "print('Gradient at initial theta (zeros): \\n');\n",
    "print('\\n', grad);\n",
    "print('Expected gradients (approx):\\n -0.1000\\n -12.0092\\n -11.2628\\n')"
   ]
  },
  {
   "cell_type": "code",
   "execution_count": 4,
   "metadata": {},
   "outputs": [
    {
     "name": "stdout",
     "output_type": "stream",
     "text": [
      "\n",
      "Cost at test theta: \n",
      " 0.21833019382659782\n",
      "Expected cost (approx): 0.218\n",
      "\n",
      "Gradient at test theta: \n",
      "\n",
      "\n",
      " [0.04290299 2.56623412 2.64679737]\n",
      "Expected gradients (approx):\n",
      " 0.043\n",
      " 2.566\n",
      " 2.647\n",
      "\n"
     ]
    }
   ],
   "source": [
    "test_theta = np.array([[-24], [0.2], [0.2],])\n",
    "[cost, grad] = costFunction(test_theta, X, y)\n",
    "\n",
    "print('\\nCost at test theta: \\n', cost)\n",
    "print('Expected cost (approx): 0.218\\n')\n",
    "print('Gradient at test theta: \\n')\n",
    "print('\\n', grad)\n",
    "print('Expected gradients (approx):\\n 0.043\\n 2.566\\n 2.647\\n')"
   ]
  },
  {
   "cell_type": "code",
   "execution_count": 5,
   "metadata": {},
   "outputs": [
    {
     "name": "stdout",
     "output_type": "stream",
     "text": [
      "Optimization terminated successfully.\n",
      "         Current function value: 0.203498\n",
      "         Iterations: 16\n",
      "         Function evaluations: 110\n",
      "         Gradient evaluations: 22\n",
      "\n",
      " Cost at theta found by fminunc: \n",
      " 0.20349770159116326\n",
      "Expected cost (approx): 0.203\n",
      "\n",
      "theta: \n",
      "\n",
      "\n",
      " [-25.16122643   0.20623085   0.20147073]\n",
      "Expected theta (approx):\n",
      "\n",
      " -25.161\n",
      " 0.206\n",
      " 0.201\n",
      "\n"
     ]
    }
   ],
   "source": [
    "### PART 3: OPTIMIZING USING fminunc\n",
    "import scipy.optimize as op\n",
    "\n",
    "def computeCost(theta, X, y):\n",
    "    J=0\n",
    "    tmp1=np.zeros((m,1))\n",
    "    for i in range(m):\n",
    "        h_x=sigmoid(np.transpose(theta).dot(np.transpose(X[i,:])))\n",
    "        tmp1[i]=-y[i]*np.log(h_x)-(1-y[i])*np.log(1-h_x)\n",
    "    J=(1/m)*np.sum(tmp1)\n",
    "    return J\n",
    "\n",
    "###use a non-zero theta\n",
    "theta=op.fmin_bfgs(computeCost, x0=test_theta, args=(X,y), maxiter=400)\n",
    "\n",
    "### Print theta to screen\n",
    "print('\\n Cost at theta found by fminunc: \\n', computeCost(theta,X,y));\n",
    "print('Expected cost (approx): 0.203\\n');\n",
    "print('theta: \\n');\n",
    "print('\\n', theta);\n",
    "print('Expected theta (approx):\\n');\n",
    "print(' -25.161\\n 0.206\\n 0.201\\n');"
   ]
  },
  {
   "cell_type": "code",
   "execution_count": 6,
   "metadata": {},
   "outputs": [
    {
     "data": {
      "image/png": "[encoded data removed]",
      "text/plain": [
       "<Figure size 432x288 with 1 Axes>"
      ]
     },
     "metadata": {
      "needs_background": "light"
     },
     "output_type": "display_data"
    }
   ],
   "source": [
    "### plot boundary\n",
    "X_plot=df.loc[:,0:1].values\n",
    "y_plot=df.loc[:,2].values\n",
    "pos=np.where(y_plot==1)\n",
    "neg=np.where(y_plot==0)\n",
    "plt.scatter(X_plot[pos, 0], X_plot[pos, 1], c='black', label='admitted')\n",
    "plt.scatter(X_plot[neg, 0], X_plot[neg, 1], c='red',label='not admitted')\n",
    "plt.xlabel('Exam 1 score')\n",
    "plt.ylabel('Exam 2 score')\n",
    "\n",
    "plot_x=np.array([np.min(X[:,1]), np.max(X[:,1])])\n",
    "plot_line = (-1/theta[2])*(theta[1]*plot_x + theta[0])\n",
    "plt.plot(plot_x,plot_line)\n",
    "\n",
    "plt.legend()\n",
    "plt.show()"
   ]
  },
  {
   "cell_type": "code",
   "execution_count": 7,
   "metadata": {},
   "outputs": [
    {
     "name": "stdout",
     "output_type": "stream",
     "text": [
      "For a student with scores 45 and 85, we predict an admission probability of \n",
      " 0.7762896923341756\n",
      "\n",
      "Expected value: 0.775 +/- 0.002\n",
      "\n"
     ]
    }
   ],
   "source": [
    "### PART 4: Predict and Accuracies \n",
    "### In this part, you will use the logistic regression model\n",
    "### to predict the probability that a student with score 45 on exam 1 and \n",
    "### score 85 on exam 2 will be admitted.\n",
    "\n",
    "prob = sigmoid(np.array([1, 45, 85]).dot(theta))\n",
    "print('For a student with scores 45 and 85, we predict an admission probability of \\n', prob)\n",
    "print('\\nExpected value: 0.775 +/- 0.002\\n')"
   ]
  },
  {
   "cell_type": "code",
   "execution_count": 8,
   "metadata": {},
   "outputs": [
    {
     "name": "stdout",
     "output_type": "stream",
     "text": [
      "Train Accuracy: \n",
      " 89.0 \n",
      "\n",
      "Expected accuracy (approx): 89.0\n",
      "\n"
     ]
    }
   ],
   "source": [
    "### Compute accuracy on our training set\n",
    "p = np.where(np.array([sigmoid(np.transpose(theta).dot(np.transpose(X)))]) >= .5, 0, 1)\n",
    "\n",
    "print('Train Accuracy: \\n', np.mean(np.where(np.transpose(p)==y,0,1)) * 100, '\\n')\n",
    "print('Expected accuracy (approx): 89.0\\n')"
   ]
  }
 ],
 "metadata": {
  "kernelspec": {
   "display_name": "Python 3",
   "language": "python",
   "name": "python3"
  },
  "language_info": {
   "codemirror_mode": {
    "name": "ipython",
    "version": 3
   },
   "file_extension": ".py",
   "mimetype": "text/x-python",
   "name": "python",
   "nbconvert_exporter": "python",
   "pygments_lexer": "ipython3",
   "version": "3.7.4"
  }
 },
 "nbformat": 4,
 "nbformat_minor": 2
}
