{
 "cells": [
  {
   "cell_type": "code",
   "execution_count": 1,
   "metadata": {},
   "outputs": [],
   "source": [
    "### Machine Learning Online Class - Exercise 3: \n",
    "### Multi Class Classification and Neural Networks\n",
    "\n",
    "import pandas as pd\n",
    "import matplotlib.pyplot as plt\n",
    "import numpy as np\n",
    "\n",
    "### Load training data\n",
    "dfX=pd.read_csv('ex3data_images.csv',sep=',',header=None)\n",
    "dfy=pd.read_csv('ex3data_labels.csv',sep=',',header=None)\n",
    "m = dfX.shape[0]\n",
    "n = dfX.shape[1]\n",
    "\n",
    "### Setup the parameters you will use for this part of the exercise\n",
    "input_layer_size  = 400 # 20x20 Input Images of Digits\n",
    "num_labels = 10         # 10 labels, from 1 to 10 (mapped \"0\" to label 10)"
   ]
  },
  {
   "cell_type": "code",
   "execution_count": 2,
   "metadata": {},
   "outputs": [
    {
     "name": "stdout",
     "output_type": "stream",
     "text": [
      "\n",
      "Cost: \n",
      " 2.534819396109744\n",
      "Expected cost: 2.534819\n",
      "\n",
      "Gradients:\n",
      "\n",
      " \n",
      " [ 0.14656137 -0.54855841  0.72472227  1.39800296]\n",
      "Expected gradients:\n",
      "\n",
      " 0.146561\n",
      " -0.548558\n",
      " 0.724722\n",
      " 1.398003\n",
      "\n"
     ]
    }
   ],
   "source": [
    "### Vectorize logistic regression \n",
    "### Test case for logistic regression CostFunction with regularization\n",
    "theta_t=np.array([[-2],[-1], [1], [2]])\n",
    "X_t = np.hstack((np.ones([5,1]), np.reshape(np.arange(1,16),[5,3],order='F')/10));\n",
    "y_t = np.array([[1],[0],[1],[0],[1]])\n",
    "lambda_t = 3\n",
    "\n",
    "def sigmoid(z):\n",
    "    g=1/(1+np.exp(-z))\n",
    "    return g\n",
    "\n",
    "def lrCostFunction(theta,X,y,lam):\n",
    "    m = y.shape[0]\n",
    "    h_x=sigmoid(X.dot(theta))\n",
    "    J=(1/m)*np.sum((-y*np.log(h_x))-((1-y)*np.log(1-h_x))) \n",
    "    grad=(1/m)*np.sum(X*(h_x-y),0)\n",
    "    J=J+(lam/(2*m))*np.sum(np.power(theta[1:],2))\n",
    "    grad[1:]=grad[1:]+(lam/m)*np.transpose(theta[1:])\n",
    "    return J, grad\n",
    "\n",
    "J, grad = lrCostFunction(theta_t, X_t, y_t, lambda_t)\n",
    "\n",
    "print('\\nCost: \\n', J)\n",
    "print('Expected cost: 2.534819\\n')\n",
    "print('Gradients:\\n')\n",
    "print(' \\n', grad)\n",
    "print('Expected gradients:\\n')\n",
    "print(' 0.146561\\n -0.548558\\n 0.724722\\n 1.398003\\n')"
   ]
  },
  {
   "cell_type": "code",
   "execution_count": 115,
   "metadata": {},
   "outputs": [],
   "source": [
    "### One vs. All training\n",
    "### Predict for one vs. all "
   ]
  }
 ],
 "metadata": {
  "kernelspec": {
   "display_name": "Python 3",
   "language": "python",
   "name": "python3"
  },
  "language_info": {
   "codemirror_mode": {
    "name": "ipython",
    "version": 3
   },
   "file_extension": ".py",
   "mimetype": "text/x-python",
   "name": "python",
   "nbconvert_exporter": "python",
   "pygments_lexer": "ipython3",
   "version": "3.7.4"
  }
 },
 "nbformat": 4,
 "nbformat_minor": 2
}
