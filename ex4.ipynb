{
 "cells": [
  {
   "cell_type": "raw",
   "metadata": {},
   "source": [
    "Excerpts from Exercise 4 from coursera machine learning"
   ]
  },
  {
   "cell_type": "code",
   "execution_count": 1,
   "metadata": {},
   "outputs": [],
   "source": [
    "from scipy.io import loadmat\n",
    "import os\n",
    "import numpy as np\n",
    "import matplotlib.pyplot as plt\n",
    "import matplotlib.image as mpimg\n",
    "import scipy.optimize as op"
   ]
  },
  {
   "cell_type": "code",
   "execution_count": 2,
   "metadata": {},
   "outputs": [],
   "source": [
    "#load the data \n",
    "ex4data=loadmat('ex4data1.mat')\n",
    "X=ex4data[\"X\"]\n",
    "y=ex4data[\"y\"]"
   ]
  },
  {
   "cell_type": "code",
   "execution_count": 3,
   "metadata": {},
   "outputs": [
    {
     "name": "stdout",
     "output_type": "stream",
     "text": [
      "5000 \n",
      "\n",
      "(400,)\n"
     ]
    }
   ],
   "source": [
    "#X holds 5000 images of 400 pixels total (20x20)\n",
    "m=X.shape[0]\n",
    "print(X.shape[0],'\\n')\n",
    "print(X[1,:].shape)"
   ]
  },
  {
   "cell_type": "code",
   "execution_count": 4,
   "metadata": {},
   "outputs": [
    {
     "data": {
      "image/png": "[encoded data removed]",
      "text/plain": [
       "<Figure size 432x288 with 1 Axes>"
      ]
     },
     "metadata": {
      "needs_background": "light"
     },
     "output_type": "display_data"
    }
   ],
   "source": [
    "#display one image \n",
    "imgplot = plt.imshow(np.reshape(X[2600,:],(20,20)).T,cmap=plt.get_cmap('Greys'))"
   ]
  },
  {
   "cell_type": "code",
   "execution_count": 5,
   "metadata": {},
   "outputs": [
    {
     "name": "stdout",
     "output_type": "stream",
     "text": [
      "(25, 401) (10, 26)\n"
     ]
    }
   ],
   "source": [
    "#load up the pre-initialized neural network parameters \n",
    "ex4weights=loadmat('ex4weights.mat')\n",
    "Theta1=ex4weights['Theta1']\n",
    "Theta2=ex4weights['Theta2']\n",
    "print(Theta1.shape, Theta2.shape)"
   ]
  },
  {
   "cell_type": "raw",
   "metadata": {},
   "source": [
    "We have a network with input layer of 400, 25 nodes in the hidden layer, and output layer of 10 (for classifying digits 0 to 9).      "
   ]
  },
  {
   "cell_type": "code",
   "execution_count": 6,
   "metadata": {},
   "outputs": [],
   "source": [
    "input_layer_size  = 400\n",
    "hidden_layer_size = 25\n",
    "num_labels = 10"
   ]
  },
  {
   "cell_type": "code",
   "execution_count": 7,
   "metadata": {},
   "outputs": [],
   "source": [
    "#first let's set up the results array\n",
    "yk=np.zeros((m,num_labels))\n",
    "\n",
    "for i in range(m):\n",
    "    ind=y[i]\n",
    "    yk[i,ind-1]=1.0"
   ]
  },
  {
   "cell_type": "code",
   "execution_count": 8,
   "metadata": {},
   "outputs": [],
   "source": [
    "#Define an activation function and the gradient\n",
    "def sigmoid(z):\n",
    "    g=1.0/(1.0+np.exp(-z)) \n",
    "    return g\n",
    "\n",
    "def sigmoidGradient(z):\n",
    "    g=sigmoid(z)*(1-sigmoid(z))\n",
    "    return g"
   ]
  },
  {
   "cell_type": "code",
   "execution_count": 9,
   "metadata": {},
   "outputs": [],
   "source": [
    "# Next, feed forward to get the cost function (without regularization, which means lambda equals 0) \n",
    "\n",
    "#add bias unit to X and hidden layer and propagate forward \n",
    "a1=np.hstack((np.ones((5000,1)),X)).T\n",
    "z2=Theta1@a1 \n",
    "a2=sigmoid(z2) \n",
    "\n",
    "a2=np.vstack((np.ones((1,5000)),a2))\n",
    "z3=Theta2@a2 \n",
    "hx=sigmoid(z3)"
   ]
  },
  {
   "cell_type": "code",
   "execution_count": 10,
   "metadata": {},
   "outputs": [
    {
     "name": "stdout",
     "output_type": "stream",
     "text": [
      "Cost at parameters (loaded from ex4weights): 0.2876291651613189 \n",
      "(this value should be about 0.287629)\n"
     ]
    }
   ],
   "source": [
    "#now compute the cost\n",
    "ksum=np.sum((-yk*np.log(hx.T) - (1-yk)*np.log(1-hx.T)),1); \n",
    "mksum=np.sum(ksum);\n",
    "J=(1/m)*mksum;\n",
    "\n",
    "print(\"Cost at parameters (loaded from ex4weights):\", J, \"\\n\"\n",
    "       \"(this value should be about 0.287629)\")"
   ]
  },
  {
   "cell_type": "code",
   "execution_count": 11,
   "metadata": {},
   "outputs": [
    {
     "name": "stdout",
     "output_type": "stream",
     "text": [
      "Cost at parameters (loaded from ex4weights): 0.38376985909092365 \n",
      "(this value should be about 0.383770)\n"
     ]
    }
   ],
   "source": [
    "#implement regularization and check the cost again \n",
    "lam=1\n",
    "\n",
    "Theta1sum=np.sum(np.sum((Theta1[:,1:]**2),1))\n",
    "Theta2sum=np.sum(np.sum((Theta2[:,1:]**2),1))\n",
    "J=J+(lam/(2*m))*(Theta1sum+Theta2sum)\n",
    "\n",
    "print(\"Cost at parameters (loaded from ex4weights):\", J, \"\\n\"\n",
    "        \"(this value should be about 0.383770)\")"
   ]
  },
  {
   "cell_type": "code",
   "execution_count": 12,
   "metadata": {},
   "outputs": [],
   "source": [
    "#then, implement backpropagation on the neural network we set up earlier \n",
    "# during the feed forward step to compute the gradients for theta 1 and \n",
    "# theta2 \n",
    "\n",
    "# put together the cost and gradient calulation into a function\n",
    "\n",
    "def nnCostFunction(nnparams, X, y, lam):\n",
    "    #re roll the thetas \n",
    "    theta1=nnparams[:hidden_layer_size*(input_layer_size+1)].\\\n",
    "        reshape((hidden_layer_size, (input_layer_size + 1)))\n",
    "    theta2=nnparams[hidden_layer_size*(input_layer_size+1):].\\\n",
    "        reshape((num_labels,(hidden_layer_size+ 1)))\n",
    "    \n",
    "    m = np.shape(X)[0];\n",
    "    J = 0;\n",
    "\n",
    "    #FEED FORWARD \n",
    "    a1=np.hstack((np.ones((5000,1)),X)).T\n",
    "    z2=theta1@a1 \n",
    "    a2=sigmoid(z2) \n",
    "\n",
    "    a2=np.vstack((np.ones((1,5000)),a2))\n",
    "    z3=theta2@a2 \n",
    "    hx=sigmoid(z3)\n",
    "    \n",
    "    #Compute Cost\n",
    "    ksum=np.sum((-yk*np.log(hx.T) - (1-yk)*np.log(1-hx.T)),1); \n",
    "    mksum=np.sum(ksum);\n",
    "    \n",
    "    theta1sum=np.sum(np.sum((theta1[:,1:]**2),1))\n",
    "    theta2sum=np.sum(np.sum((theta2[:,1:]**2),1))\n",
    "    J=J+(lam/(2*m))*(theta1sum+theta2sum)\n",
    "    \n",
    "    return J\n",
    "\n",
    "def nnGrad(nnparams, X, y, lam):\n",
    "    #reroll the thetas \n",
    "    theta1=nnparams[:hidden_layer_size*(input_layer_size+1)].\\\n",
    "        reshape((hidden_layer_size, (input_layer_size + 1)))\n",
    "    theta2=nnparams[hidden_layer_size*(input_layer_size+1):].\\\n",
    "        reshape((num_labels,(hidden_layer_size+1)))\n",
    "  \n",
    "    m = np.shape(X)[0];\n",
    "    theta1_grad = np.zeros(np.shape(theta1));\n",
    "    theta2_grad = np.zeros(np.shape(theta2));\n",
    "\n",
    "    # now implement backpropagation\n",
    "    delta_1=0; \n",
    "    delta_2=0; \n",
    "\n",
    "    for t in range(m): \n",
    "        a1=np.vstack((np.atleast_2d(1),np.atleast_2d(X[t,:]).T))\n",
    "        z2=theta1@a1 \n",
    "        a2=sigmoid(z2) \n",
    "        a2=np.vstack((np.atleast_2d(1),a2))\n",
    "        z3=theta2@a2 \n",
    "        a3=sigmoid(z3)     \n",
    "        d3=a3-np.atleast_2d(yk[t,:]).T; \n",
    "        d2=(theta2[:,1:].T@d3)*sigmoidGradient(z2)\n",
    "        delta_1=delta_1+(d2@a1.T)\n",
    "        delta_2=delta_2+(d3@a2.T)\n",
    "\n",
    "    theta1[:,0]=0; \n",
    "    theta2[:,0]=0; \n",
    "    theta1_grad=(1/m)*delta_1+(lam/m)*theta1; \n",
    "    theta2_grad=(1/m)*delta_2+(lam/m)*theta2; \n",
    "\n",
    "    grad=np.concatenate((theta1_grad.ravel(),theta2_grad.ravel()))\n",
    "    \n",
    "    return grad"
   ]
  },
  {
   "cell_type": "code",
   "execution_count": 13,
   "metadata": {},
   "outputs": [],
   "source": [
    "#epsilon_int=0.12; \n",
    "#initial_theta1=np.random.rand(hidden_layer_size,1+input_layer_size) * 2 * epsilon_int - epsilon_int ; \n",
    "#initial_theta2=np.random.rand(num_labels,1+hidden_layer_size) * 2 * epsilon_int - epsilon_int ; \n",
    "#initial_nn_params = np.concatenate((initial_theta1.ravel(), initial_theta2.ravel()))"
   ]
  },
  {
   "cell_type": "code",
   "execution_count": 14,
   "metadata": {},
   "outputs": [],
   "source": [
    "# now implement a neural network from start to end \n",
    "# start with the given weights\n",
    "nn_params=np.concatenate((Theta1.ravel(),Theta2.ravel()))"
   ]
  },
  {
   "cell_type": "code",
   "execution_count": 16,
   "metadata": {},
   "outputs": [],
   "source": [
    "#train the neural network \n",
    "lam=0\n",
    "thetas=op.minimize(nnCostFunction, nn_params, args=(X,y,lam), \\\n",
    "                   method='CG', jac=nnGrad)"
   ]
  },
  {
   "cell_type": "code",
   "execution_count": 17,
   "metadata": {},
   "outputs": [
    {
     "data": {
      "text/plain": [
       "     fun: 0.0\n",
       "     jac: array([ 6.18712766e-05,  0.00000000e+00,  0.00000000e+00, ...,\n",
       "        9.66104721e-05, -7.57736846e-04,  7.73329872e-04])\n",
       " message: 'Desired error not necessarily achieved due to precision loss.'\n",
       "    nfev: 113\n",
       "     nit: 0\n",
       "    njev: 101\n",
       "  status: 2\n",
       " success: False\n",
       "       x: array([ 0.00000000e+00, -1.05624163e-08,  2.19414684e-09, ...,\n",
       "       -2.47795788e-01,  1.28009118e+00, -1.32752042e+00])"
      ]
     },
     "execution_count": 17,
     "metadata": {},
     "output_type": "execute_result"
    }
   ],
   "source": [
    "thetas"
   ]
  },
  {
   "cell_type": "code",
   "execution_count": 18,
   "metadata": {},
   "outputs": [],
   "source": [
    "#reroll the result \n",
    "Theta1_opt=thetas.x[:hidden_layer_size*(input_layer_size+1)].\\\n",
    "        reshape((hidden_layer_size, (input_layer_size + 1)))\n",
    "Theta2_opt=thetas.x[hidden_layer_size*(input_layer_size+1):].\\\n",
    "        reshape((num_labels,(hidden_layer_size+ 1)))"
   ]
  },
  {
   "cell_type": "code",
   "execution_count": 19,
   "metadata": {},
   "outputs": [],
   "source": [
    "#now, let's check the prediction\n",
    "a1=np.hstack((np.ones((5000,1)),X)).T\n",
    "z2=Theta1_opt@a1\n",
    "a2=sigmoid(z2) \n",
    "\n",
    "a2=np.vstack((np.ones((1,5000)),a2))\n",
    "z3=Theta2_opt@a2 \n",
    "hx=sigmoid(z3)"
   ]
  },
  {
   "cell_type": "code",
   "execution_count": 23,
   "metadata": {},
   "outputs": [],
   "source": [
    "p = [np.argmax(hx[:,i]) for i in range(m)]\n",
    "p = np.add(p,1)"
   ]
  },
  {
   "cell_type": "code",
   "execution_count": 24,
   "metadata": {},
   "outputs": [
    {
     "data": {
      "text/plain": [
       "97.52"
      ]
     },
     "execution_count": 24,
     "metadata": {},
     "output_type": "execute_result"
    }
   ],
   "source": [
    "(sum((p==y.ravel()))/5000) * 100"
   ]
  },
  {
   "cell_type": "code",
   "execution_count": 25,
   "metadata": {},
   "outputs": [
    {
     "data": {
      "text/plain": [
       "97.52"
      ]
     },
     "execution_count": 25,
     "metadata": {},
     "output_type": "execute_result"
    }
   ],
   "source": [
    "#compare to pre loaded Thetas\n",
    "a1=np.hstack((np.ones((5000,1)),X)).T\n",
    "z2=np.dot(Theta1,a1) \n",
    "a2=sigmoid(z2) \n",
    "\n",
    "a2=np.vstack((np.ones((1,5000)),a2))\n",
    "z3=np.dot(Theta2,a2) \n",
    "hx=sigmoid(z3)\n",
    "\n",
    "p = [np.argmax(hx[:,i]) for i in range(m)]\n",
    "p=np.add(p,1)\n",
    "\n",
    "(sum((p==y.ravel()))/5000) * 100"
   ]
  },
  {
   "cell_type": "raw",
   "metadata": {},
   "source": [
    "In this example I initialized with the pre loaded weights instead of randomly initialized weights due to issues with the optimization algorithm. There is still an issue with the optimization. This was not a successful attempt but perhaps with some more understanding about the vatious optimization algorithms, someone else can figure this out! :) "
   ]
  }
 ],
 "metadata": {
  "kernelspec": {
   "display_name": "Python 3",
   "language": "python",
   "name": "python3"
  },
  "language_info": {
   "codemirror_mode": {
    "name": "ipython",
    "version": 3
   },
   "file_extension": ".py",
   "mimetype": "text/x-python",
   "name": "python",
   "nbconvert_exporter": "python",
   "pygments_lexer": "ipython3",
   "version": "3.7.6"
  }
 },
 "nbformat": 4,
 "nbformat_minor": 4
}
